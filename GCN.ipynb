{
  "nbformat": 4,
  "nbformat_minor": 0,
  "metadata": {
    "colab": {
      "private_outputs": true,
      "provenance": [],
      "mount_file_id": "10ZgzrsaZDkNtDa2dvJ8lQwIHKnuWj545",
      "authorship_tag": "ABX9TyN9d4nZaRi7+XxXNYfJXKz5"
    },
    "kernelspec": {
      "name": "python3",
      "display_name": "Python 3"
    },
    "language_info": {
      "name": "python"
    }
  },
  "cells": [
    {
      "cell_type": "code",
      "execution_count": null,
      "metadata": {
        "id": "2iRnX80csMxf"
      },
      "outputs": [],
      "source": [
        "import os\n",
        "\n",
        "import torch\n",
        "import torch.nn as nn\n",
        "import torch.nn.functional as F\n",
        "import gc"
      ]
    },
    {
      "cell_type": "code",
      "source": [
        "X_dict = dict()\n",
        "for root, dirs, files in os.walk(\"/content/drive/MyDrive/Colab_Notebooks/CV_handwriting/lamono_tesnors\"):\n",
        "    for filename in files:\n",
        "      sparse_tensor = torch.load(\"/content/drive/MyDrive/Colab_Notebooks/CV_handwriting/lamono_tesnors/\"+filename)\n",
        "      X_dict[filename[:-3]] = sparse_tensor"
      ],
      "metadata": {
        "id": "03SL1RPa-DFO"
      },
      "execution_count": null,
      "outputs": []
    },
    {
      "cell_type": "code",
      "source": [
        "X_dict"
      ],
      "metadata": {
        "collapsed": true,
        "id": "jgpSeu7XDXWM"
      },
      "execution_count": null,
      "outputs": []
    },
    {
      "cell_type": "code",
      "source": [
        "A_hat = torch.load(\"/content/drive/MyDrive/Colab_Notebooks/CV_handwriting/A_hat.pt\")"
      ],
      "metadata": {
        "id": "3Bwg1OTm_zUN"
      },
      "execution_count": null,
      "outputs": []
    },
    {
      "cell_type": "code",
      "source": [
        "class GCNLayer(nn.Module):\n",
        "    \"\"\"\n",
        "        GCN layer\n",
        "\n",
        "        Args:\n",
        "            input_dim (int): Dimension of the input\n",
        "            output_dim (int): Dimension of the output (a softmax distribution)\n",
        "            A (torch.Tensor): 2D adjacency matrix\n",
        "    \"\"\"\n",
        "\n",
        "    def __init__(self, A: torch.Tensor):\n",
        "        super(GCNLayer, self).__init__()\n",
        "\n",
        "        A = A.coalesce()\n",
        "\n",
        "        #(D^-1/2 * A_hat * D^-1/2)\n",
        "        #each element of A_hat aij should be multiplied on 1/(di*dj)^(1/2)\n",
        "        #where di - number of graph edges of i node\n",
        "        #dj - number of graph edges of j node\n",
        "        #Since we have removed the edge pixels , each vertex will have 8 neighbours.\n",
        "        #So each element of A_hat matrix should be multiplied on 1/(8*8)^(1/2) = 1/8\n",
        "\n",
        "        A_fin = torch.sparse_coo_tensor(\n",
        "            A.indices(),\n",
        "            A.values() * 1/8,\n",
        "            A.size()\n",
        "        )\n",
        "        self.A_fin = A_fin\n",
        "\n",
        "        self.W = nn.Parameter(torch.rand(input_dim, output_dim))\n",
        "\n",
        "    def forward(self, X: torch.Tensor):\n",
        "\n",
        "        # (D^-1/2 * A_hat * D^-1/2) * X\n",
        "        support_1 = torch.sparse.mm(self.A_fin,X.reshape(-1,1))\n",
        "\n",
        "        # (D^-1/2 * A_hat * D^-1/2) * X * W\n",
        "        support_2 = torch.sparse.mm(support_1, self.W)\n",
        "        print(support_2.size())\n",
        "        # ReLU(D^-1/2 * A_hat * D^-1/2 * X * W)\n",
        "        H = F.relu(support_2)\n",
        "\n",
        "        return H"
      ],
      "metadata": {
        "id": "87FqpKl2xdgc"
      },
      "execution_count": null,
      "outputs": []
    },
    {
      "cell_type": "code",
      "source": [
        "# Create the GCN Layer\n",
        "gcn_layer = GCNLayer(A_hat)\n",
        "\n",
        "# Example input feature matrix\n",
        "X = X_dict['001'].to_dense().to(torch.float)\n",
        "\n",
        "output = gcn_layer(X)\n",
        "\n",
        "print(output)"
      ],
      "metadata": {
        "id": "sXtzNLvlytKr"
      },
      "execution_count": null,
      "outputs": []
    },
    {
      "cell_type": "code",
      "source": [
        "output.count_nonzero()"
      ],
      "metadata": {
        "id": "pdhgSvtuVZqn"
      },
      "execution_count": null,
      "outputs": []
    }
  ]
}