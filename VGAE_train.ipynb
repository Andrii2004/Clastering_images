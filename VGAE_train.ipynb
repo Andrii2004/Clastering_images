{
  "nbformat": 4,
  "nbformat_minor": 0,
  "metadata": {
    "colab": {
      "private_outputs": true,
      "provenance": [],
      "gpuType": "T4",
      "mount_file_id": "10ZgzrsaZDkNtDa2dvJ8lQwIHKnuWj545",
      "authorship_tag": "ABX9TyMfnq3lK/IjZw4rwIMKCR/h"
    },
    "kernelspec": {
      "name": "python3",
      "display_name": "Python 3"
    },
    "language_info": {
      "name": "python"
    },
    "accelerator": "GPU"
  },
  "cells": [
    {
      "cell_type": "code",
      "execution_count": null,
      "metadata": {
        "id": "2iRnX80csMxf"
      },
      "outputs": [],
      "source": [
        "import os\n",
        "\n",
        "import torch\n",
        "import torch.nn as nn\n",
        "import torch.nn.functional as F\n",
        "import gc"
      ]
    },
    {
      "cell_type": "code",
      "source": [
        "X_dict = dict()\n",
        "for root, dirs, files in os.walk(\"/content/drive/MyDrive/Colab_Notebooks/CV_handwriting/lamono_tesnors\"):\n",
        "    for filename in files:\n",
        "      sparse_tensor = torch.load(\"/content/drive/MyDrive/Colab_Notebooks/CV_handwriting/lamono_tesnors/\"+filename)\n",
        "      X_dict[filename[:-3]] = sparse_tensor"
      ],
      "metadata": {
        "id": "03SL1RPa-DFO"
      },
      "execution_count": null,
      "outputs": []
    },
    {
      "cell_type": "code",
      "source": [
        "A_hat = torch.load(\"/content/drive/MyDrive/Colab_Notebooks/CV_handwriting/A_hat.pt\")"
      ],
      "metadata": {
        "id": "3Bwg1OTm_zUN"
      },
      "execution_count": null,
      "outputs": []
    },
    {
      "cell_type": "code",
      "source": [
        "class GCNLayer(nn.Module):\n",
        "    \"\"\"\n",
        "        GCN layer\n",
        "\n",
        "        Args:\n",
        "            input_dim (int): Dimension of the input\n",
        "            output_dim (int): Dimension of the output (a softmax distribution)\n",
        "            A (torch.Tensor): 2D adjacency matrix\n",
        "    \"\"\"\n",
        "\n",
        "    def __init__(self,  input_dim, output_dim, A: torch.Tensor,activation = F.relu):\n",
        "        super(GCNLayer, self).__init__()\n",
        "        A = A.coalesce()\n",
        "        self.activation = activation\n",
        "\n",
        "        #(D^-1/2 * A_hat * D^-1/2)\n",
        "        #each element of A_hat aij should be multiplied on 1/(di*dj)^(1/2)\n",
        "        #where di - number of graph edges of i node\n",
        "        #dj - number of graph edges of j node\n",
        "        #Since we have removed the edge pixels , each vertex will have 8 neighbours.\n",
        "        #So each element of A_hat matrix should be multiplied on 1/(8*8)^(1/2) = 1/8\n",
        "\n",
        "        A_fin = torch.sparse_coo_tensor(\n",
        "            A.indices(),\n",
        "            A.values() * 1/8,\n",
        "            A.size()\n",
        "        )\n",
        "        self.A_fin = A_fin\n",
        "        self.W = nn.Parameter(torch.rand(input_dim, output_dim)) #glorot_init(input_dim, output_dim)\n",
        "\n",
        "    def forward(self, X: torch.Tensor):\n",
        "\n",
        "        # (D^-1/2 * A_hat * D^-1/2) * X\n",
        "        support_1 = torch.matmul(X.reshape(-1,1), self.W)\n",
        "\n",
        "        # (D^-1/2 * A_hat * D^-1/2) * X * W\n",
        "        support_2 = torch.sparse.mm(self.A_fin, support_1)\n",
        "        # ReLU(D^-1/2 * A_hat * D^-1/2 * X * W)\n",
        "        outputs = self.activation(support_2)\n",
        "        return outputs"
      ],
      "metadata": {
        "id": "87FqpKl2xdgc"
      },
      "execution_count": null,
      "outputs": []
    },
    {
      "cell_type": "code",
      "source": [
        "# def dot_product_decode(Z):\n",
        "#   z_sp = Z.to_sparse()\n",
        "#   zt_sp = Z.t().to_sparse()\n",
        "#   A_pred = torch.sparse.mm(z_sp,Z.t())\n",
        "#   return A_pred"
      ],
      "metadata": {
        "id": "1Wus2zFpmPsL"
      },
      "execution_count": null,
      "outputs": []
    },
    {
      "cell_type": "code",
      "source": [
        "def dot_product_decode(Z, batch_size=1000):\n",
        "    N = Z.size(0)\n",
        "    A_pred = torch.zeros(N, N)  # Ініціалізація результату\n",
        "\n",
        "    for i in range(0, N, batch_size):\n",
        "        Z_i = Z[i:i+batch_size]  # Вибір блоку рядків\n",
        "        A_pred[i:i+batch_size] = torch.matmul(Z_i, Z.T)\n",
        "\n",
        "    return A_pred"
      ],
      "metadata": {
        "id": "UzX274OdE6ty"
      },
      "execution_count": null,
      "outputs": []
    },
    {
      "cell_type": "code",
      "source": [
        "class VGAE(nn.Module):\n",
        "  def __init__(self, input_dim,hidden1_dim,hidden2_dim,A):\n",
        "    super(VGAE, self).__init__()\n",
        "    self.input_dim = input_dim\n",
        "    self.hidden1_dim = hidden1_dim\n",
        "    self.hidden2_dim = hidden2_dim\n",
        "    self.base_gcn = GCNLayer(input_dim, hidden1_dim, A)\n",
        "    self.gcn_mean = GCNLayer(hidden1_dim, hidden2_dim, A, activation=lambda x:x)\n",
        "    self.gcn_logstddev = GCNLayer(hidden1_dim, hidden2_dim, A, activation=lambda x:x)\n",
        "\n",
        "  def encode(self, X):\n",
        "    hidden = self.base_gcn(X)\n",
        "    self.mean = self.gcn_mean(hidden)\n",
        "    self.logstd = self.gcn_logstddev(hidden)\n",
        "    gaussian_noise = torch.randn(X.size(0), self.hidden2_dim)\n",
        "    sampled_z = gaussian_noise*torch.exp(self.logstd) + self.mean\n",
        "    return sampled_z\n",
        "\n",
        "  def forward(self, X):\n",
        "    Z = self.encode(X)\n",
        "    print(Z.t())\n",
        "    A_pred = dot_product_decode(Z)\n",
        "    return A_pred"
      ],
      "metadata": {
        "id": "evgq7rUmg34K"
      },
      "execution_count": null,
      "outputs": []
    },
    {
      "cell_type": "code",
      "source": [
        "# Create the GCN Layer\n",
        "VGAE_model = VGAE(1,1,1,A_hat)\n",
        "\n",
        "# Example input feature matrix\n",
        "X = X_dict['001'].to_dense().to(torch.float)\n",
        "\n",
        "output = VGAE_model.forward(X)\n",
        "\n",
        "print(output)"
      ],
      "metadata": {
        "id": "sXtzNLvlytKr"
      },
      "execution_count": null,
      "outputs": []
    }
  ]
}