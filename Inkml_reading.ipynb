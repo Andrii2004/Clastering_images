{
  "nbformat": 4,
  "nbformat_minor": 0,
  "metadata": {
    "colab": {
      "private_outputs": true,
      "provenance": [],
      "mount_file_id": "1NhN9FsgayGnbkTMWy4tsy1TgOpoy6IQc",
      "authorship_tag": "ABX9TyOLpNK5ctglrgWiUHQlo+IM"
    },
    "kernelspec": {
      "name": "python3",
      "display_name": "Python 3"
    },
    "language_info": {
      "name": "python"
    }
  },
  "cells": [
    {
      "cell_type": "code",
      "source": [
        "pip install xmltodict"
      ],
      "metadata": {
        "id": "gzZHf72Nuty7"
      },
      "execution_count": null,
      "outputs": []
    },
    {
      "cell_type": "code",
      "source": [
        "import xmltodict\n",
        "import matplotlib.pyplot as plt\n",
        "import os"
      ],
      "metadata": {
        "id": "5tqSkpQMuqM8"
      },
      "execution_count": null,
      "outputs": []
    },
    {
      "cell_type": "markdown",
      "source": [
        "Конвертація датасету IAMONDO з .inkml в .png"
      ],
      "metadata": {
        "id": "-ysx8692u5Lh"
      }
    },
    {
      "cell_type": "code",
      "source": [
        "def read_xml(file):\n",
        "  '''\n",
        "    Obtaining tracers and matrix values from inkml file\n",
        "\n",
        "    input :\n",
        "      file - inkml file opened in read mode\n",
        "    output :\n",
        "      tracers - list of tracers from file\n",
        "      x_vector_float,y_vector_float - vectors of ratios of tracer coordinates to coordinates of points in the image\n",
        "  '''\n",
        "  xml_content = file.read()\n",
        "  data_dict = xmltodict.parse(xml_content)\n",
        "  tracers = data_dict['ink']['trace']\n",
        "  try :\n",
        "    matrix = data_dict['ink']['definitions']['canvasTransform']['mapping']['matrix']\n",
        "    matrix = matrix.split(',')\n",
        "    matrix_list = matrix[:2]\n",
        "    x_vector = matrix_list[0].split()[:2]\n",
        "    y_vector = matrix_list[1].split()[:2]\n",
        "\n",
        "    x_vector_float = [float(i) for i in x_vector]\n",
        "    y_vector_float = [float(i) for i in y_vector]\n",
        "  except KeyError :\n",
        "    x_vector_float = [1,0]\n",
        "    y_vector_float = [0,1]\n",
        "  return tracers, x_vector_float,y_vector_float"
      ],
      "metadata": {
        "id": "unO6lHaP_A-h"
      },
      "execution_count": null,
      "outputs": []
    },
    {
      "cell_type": "code",
      "source": [
        "def tracer_to_list(tracer) :\n",
        "  '''\n",
        "  Converting tracer from str to list type\n",
        "  '''\n",
        "  elements = tracer.split(',')\n",
        "  tracer_list = []\n",
        "  for element in elements:\n",
        "    clean_elem = element.replace('\"', ' ').replace(\"'\", ' ').replace('-',' -').replace(' .',' 0.').replace(' -.',' -0.')\n",
        "    sublist = clean_elem.split()\n",
        "    tracer_point = []\n",
        "    for num in sublist[:2]:\n",
        "      tracer_point.append(float(num))\n",
        "    tracer_list.append(tracer_point)\n",
        "  return tracer_list"
      ],
      "metadata": {
        "id": "mAe6PrhOuqc2"
      },
      "execution_count": null,
      "outputs": []
    },
    {
      "cell_type": "code",
      "source": [
        "def tracer_coords(tracer_list):\n",
        "  '''\n",
        "  Transforming tracer from list type into list of coordinates,\n",
        "  converting velocities and accelerations to actual coordinates\n",
        "  '''\n",
        "  coords_list = []\n",
        "\n",
        "  start_values = tracer_list[0]\n",
        "  x0 = start_values[0]\n",
        "  y0 = start_values[1]\n",
        "  coords_list.append([x0,y0])\n",
        "\n",
        "  if len(tracer_list)>1  :\n",
        "    start_speed = tracer_list[1]\n",
        "    x_sp = start_speed[0]\n",
        "    y_sp = start_speed[1]\n",
        "    x = x0 + x_sp\n",
        "    y = y0 + y_sp\n",
        "    coords_list.append([x,y])\n",
        "\n",
        "    if len(tracer_list)>2 :\n",
        "      for elems in tracer_list[2:]:\n",
        "        x_sp_change = elems[0]\n",
        "        y_sp_change = elems[1]\n",
        "        x_sp = x_sp + x_sp_change\n",
        "        y_sp = y_sp + y_sp_change\n",
        "        x = x + x_sp\n",
        "        y = y + y_sp\n",
        "        coords_list.append([x,y])\n",
        "\n",
        "  return coords_list"
      ],
      "metadata": {
        "id": "yfC5TUak8xKk"
      },
      "execution_count": null,
      "outputs": []
    },
    {
      "cell_type": "code",
      "source": [
        "def coords_to_image_lamondo(file,path,name):\n",
        "  '''\n",
        "  Drawing and saving an image based on inkml file\n",
        "\n",
        "  input :\n",
        "    file - inkml file opened in read mode\n",
        "    path - path to saving image\n",
        "    name - the name for the image we'll get\n",
        "  '''\n",
        "  tracers, x_vector,y_vector = read_xml(file)\n",
        "  plt.figure()\n",
        "  for tracer_dict in tracers:\n",
        "    tracer = tracer_dict['#text']\n",
        "    tracer_list = tracer_to_list(tracer)\n",
        "    coordinates = tracer_coords(tracer_list)\n",
        "\n",
        "    x_coords = [x_vector[0] * point[0] + x_vector[1] * point[1] for point in coordinates]\n",
        "    y_coords = [- y_vector[0] * point[0] - y_vector[1] * point[1] for point in coordinates]\n",
        "    plt.plot(x_coords, y_coords,  color='black')\n",
        "  plt.axis('off')\n",
        "  plt.savefig(path+'/'+name+\".png\", dpi=500, bbox_inches='tight')\n",
        "  plt.close()"
      ],
      "metadata": {
        "id": "vrfhBvAH-8dE"
      },
      "execution_count": null,
      "outputs": []
    },
    {
      "cell_type": "code",
      "source": [
        "for root, dirs, files in os.walk(\"/content/drive/MyDrive/Colab_Notebooks/CV_handwriting/lamono_\"):\n",
        "    for filename in files:\n",
        "      print(filename)\n",
        "      with open(\"/content/drive/MyDrive/Colab_Notebooks/CV_handwriting/lamono_/\"+filename, 'r', encoding='utf-8') as file:\n",
        "          coords_to_image_lamondo(file,\"/content/drive/MyDrive/Colab_Notebooks/CV_handwriting/lamono_my_render\",filename)\n"
      ],
      "metadata": {
        "id": "gmtBXjxsRPKu",
        "collapsed": true
      },
      "execution_count": null,
      "outputs": []
    },
    {
      "cell_type": "markdown",
      "source": [
        "Було : https://drive.google.com/drive/folders/12N_dKOSoV4xXweXLkB6RhtwSb6YNECOy?usp=drive_link"
      ],
      "metadata": {
        "id": "7L8nsXNZwnEW"
      }
    },
    {
      "cell_type": "markdown",
      "source": [
        "Стало : https://drive.google.com/drive/folders/13z-_YfXSYCrWbUPhlXeCRn7n_wft_klQ?usp=drive_link"
      ],
      "metadata": {
        "id": "LXgdfKmIwyDt"
      }
    },
    {
      "cell_type": "markdown",
      "source": [
        "Конвертація датасету FA_ з .inkml в .png"
      ],
      "metadata": {
        "id": "T5gSUwWyvJ1i"
      }
    },
    {
      "cell_type": "code",
      "source": [
        "def coords_to_image_fa(file,path,name):\n",
        "  '''\n",
        "  Drawing and saving an image based on inkml file\n",
        "\n",
        "  input :\n",
        "    file - inkml file opened in read mode\n",
        "    path - path to saving image\n",
        "    name - the name for the image we'll get\n",
        "  '''\n",
        "  tracers, x_vector,y_vector = read_xml(file)\n",
        "  plt.figure()\n",
        "  for tracer_dict in tracers:\n",
        "    tracer = tracer_dict['#text']\n",
        "    coordinates = tracer_to_list(tracer)\n",
        "\n",
        "    x_coords = [x_vector[0] * point[0] + x_vector[1] * point[1] for point in coordinates]\n",
        "    y_coords = [- y_vector[0] * point[0] - y_vector[1] * point[1] for point in coordinates]\n",
        "\n",
        "    plt.plot(x_coords, y_coords,  color='black')\n",
        "  plt.axis('off')\n",
        "  plt.savefig(path+'/'+name+\".png\", dpi=500, bbox_inches='tight')\n",
        "  plt.close()"
      ],
      "metadata": {
        "id": "7Cku4MVmxIc7"
      },
      "execution_count": null,
      "outputs": []
    },
    {
      "cell_type": "code",
      "source": [
        "for root, dirs, files in os.walk(\"/content/drive/MyDrive/Colab_Notebooks/CV_handwriting/FA_\"):\n",
        "    for filename in files:\n",
        "      print(filename)\n",
        "      with open(\"/content/drive/MyDrive/Colab_Notebooks/CV_handwriting/FA_/\"+filename, 'r', encoding='utf-8') as file:\n",
        "          coords_to_image_fa(file,\"/content/drive/MyDrive/Colab_Notebooks/CV_handwriting/FA_my_render\",filename)"
      ],
      "metadata": {
        "collapsed": true,
        "id": "AhAj2rsjvIqp"
      },
      "execution_count": null,
      "outputs": []
    },
    {
      "cell_type": "markdown",
      "source": [
        "Було : https://drive.google.com/drive/folders/1138oRAeXgWEQdeT5Ssy2IIyBE9DjpoGM?usp=drive_link\n",
        "\n",
        "Стало : https://drive.google.com/drive/folders/1QE8Bb4GIz3GCoQAHSOfGNJTGcYCeVlRh?usp=drive_link"
      ],
      "metadata": {
        "id": "dk4DITn69jVC"
      }
    }
  ]
}